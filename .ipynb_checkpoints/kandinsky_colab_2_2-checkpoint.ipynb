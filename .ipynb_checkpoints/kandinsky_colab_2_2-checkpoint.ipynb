{
  "cells": [
    {
      "cell_type": "code",
      "execution_count": 1,
      "metadata": {
        "id": "3dX4hsTBm4dD"
      },
      "outputs": [
        {
          "name": "stderr",
          "output_type": "stream",
          "text": [
            "/Users/annv0r0/Downloads/git_projects/side/gpt-requests/env/lib/python3.11/site-packages/tqdm/auto.py:21: TqdmWarning: IProgress not found. Please update jupyter and ipywidgets. See https://ipywidgets.readthedocs.io/en/stable/user_install.html\n",
            "  from .autonotebook import tqdm as notebook_tqdm\n"
          ]
        },
        {
          "name": "stdout",
          "output_type": "stream",
          "text": [
            "False\n"
          ]
        }
      ],
      "source": [
        "# !pip install git+https://github.com/ai-forever/diffusers.git\n",
        "# !pip install transformers\n",
        "# !pip install accelerate\n",
        "\n",
        "import sys\n",
        "from diffusers import KandinskyV22Pipeline, KandinskyV22PriorPipeline\n",
        "import torch\n",
        "import PIL\n",
        "import torch\n",
        "from diffusers.utils import load_image\n",
        "from torchvision import transforms\n",
        "from transformers import CLIPVisionModelWithProjection\n",
        "from diffusers.models import UNet2DConditionModel\n",
        "import numpy as np\n",
        "\n",
        "DEVICE = torch.device('cuda:0')\n",
        "\n",
        "image_encoder = CLIPVisionModelWithProjection.from_pretrained(\n",
        "    'kandinsky-community/kandinsky-2-2-prior',\n",
        "    subfolder='image_encoder'\n",
        ").half().to(DEVICE)\n",
        "\n",
        "unet = UNet2DConditionModel.from_pretrained(\n",
        "    'kandinsky-community/kandinsky-2-2-decoder',\n",
        "    subfolder='unet'\n",
        ").half().to(DEVICE)\n",
        "\n",
        "prior = KandinskyV22PriorPipeline.from_pretrained(\n",
        "    'kandinsky-community/kandinsky-2-2-prior',\n",
        "    image_encoder=image_encoder,\n",
        "    torch_dtype=torch.float16\n",
        ").to(DEVICE)\n",
        "\n",
        "decoder = KandinskyV22Pipeline.from_pretrained(\n",
        "    'kandinsky-community/kandinsky-2-2-decoder',\n",
        "    unet=unet,\n",
        "    torch_dtype=torch.float16\n",
        ").to(DEVICE)"
      ]
    },
    {
      "cell_type": "code",
      "execution_count": null,
      "metadata": {
        "id": "y_GwTZnYxcxM"
      },
      "outputs": [],
      "source": [
        "torch.manual_seed(42)\n",
        "\n",
        "negative_prior_prompt ='lowres, text, error, cropped, worst quality, low quality, jpeg artifacts, ugly, duplicate, morbid, mutilated, out of frame, extra fingers, mutated hands, poorly drawn hands, poorly drawn face, mutation, deformed, blurry, dehydrated, bad anatomy, bad proportions, extra limbs, cloned face, disfigured, gross proportions, malformed limbs, missing arms, missing legs, extra arms, extra legs, fused fingers, too many fingers, long neck, username, watermark, signature'\n",
        "img_emb = prior(\n",
        "    prompt='Сельхозтехника',\n",
        "    num_inference_steps=25,\n",
        "    num_images_per_prompt=3\n",
        ")\n",
        "\n",
        "negative_emb = prior(\n",
        "    prompt=negative_prior_prompt,\n",
        "    num_inference_steps=25,\n",
        "    num_images_per_prompt=3\n",
        ")\n",
        "\n",
        "images = decoder(\n",
        "    image_embeds=img_emb.image_embeds,\n",
        "    negative_image_embeds=negative_emb.image_embeds,\n",
        "    num_inference_steps=75,\n",
        "    height=512,\n",
        "    width=512)\n",
        "\n",
        "images.images[0]"
      ]
    }
  ],
  "metadata": {
    "accelerator": "GPU",
    "colab": {
      "provenance": []
    },
    "gpuClass": "standard",
    "kernelspec": {
      "display_name": "env",
      "language": "python",
      "name": "python3"
    },
    "language_info": {
      "codemirror_mode": {
        "name": "ipython",
        "version": 3
      },
      "file_extension": ".py",
      "mimetype": "text/x-python",
      "name": "python",
      "nbconvert_exporter": "python",
      "pygments_lexer": "ipython3",
      "version": "3.11.4"
    },
    "orig_nbformat": 4
  },
  "nbformat": 4,
  "nbformat_minor": 0
}
